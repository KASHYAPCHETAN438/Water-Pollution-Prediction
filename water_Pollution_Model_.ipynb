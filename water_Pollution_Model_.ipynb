{
  "nbformat": 4,
  "nbformat_minor": 0,
  "metadata": {
    "colab": {
      "provenance": [],
      "authorship_tag": "ABX9TyNigltS7XL53lxNeVKEzduu",
      "include_colab_link": true
    },
    "kernelspec": {
      "name": "python3",
      "display_name": "Python 3"
    },
    "language_info": {
      "name": "python"
    }
  },
  "cells": [
    {
      "cell_type": "markdown",
      "metadata": {
        "id": "view-in-github",
        "colab_type": "text"
      },
      "source": [
        "<a href=\"https://colab.research.google.com/github/KASHYAPCHETAN438/Water-Pollution-Prediction/blob/main/water_Pollution_Model_.ipynb\" target=\"_parent\"><img src=\"https://colab.research.google.com/assets/colab-badge.svg\" alt=\"Open In Colab\"/></a>"
      ]
    },
    {
      "cell_type": "code",
      "execution_count": 2,
      "metadata": {
        "colab": {
          "base_uri": "https://localhost:8080/",
          "height": 686
        },
        "id": "yCOfZSZ7dShK",
        "outputId": "6491eef6-d378-4b66-ab44-6ef39419702e"
      },
      "outputs": [
        {
          "output_type": "stream",
          "name": "stdout",
          "text": [
            "\n",
            "📊 Pollution Status of Sample Locations:\n",
            "\n",
            "               State                                Monitoring Location  \\\n",
            "1610          ODISHA          RIVER SUBARNAREKHA AT LAKHANNATH (ORISSA)   \n",
            "1613          ODISHA         RIVER BUDHABALANGA AT D/S OF BARIPADA TOWN   \n",
            "1614          ODISHA                 RIVER BUDHABALANGA AT BALASORE U/S   \n",
            "1615          ODISHA  RIVER SONO AT KANAKDURGA ROAD NEAR REMUNA, HAT...   \n",
            "1616  MADHYA PRADESH  RIVER TAPTI AT NEPA NAGAR 100 METRE D/S AFTER ...   \n",
            "\n",
            "     pollution_status  \n",
            "1610         Moderate  \n",
            "1613         Moderate  \n",
            "1614         Moderate  \n",
            "1615         Moderate  \n",
            "1616         Moderate  \n",
            "\n",
            "----------- Enter water quality values to check pollution status -------------\n",
            "\n"
          ]
        },
        {
          "output_type": "error",
          "ename": "KeyboardInterrupt",
          "evalue": "Interrupted by user",
          "traceback": [
            "\u001b[0;31m---------------------------------------------------------------------------\u001b[0m",
            "\u001b[0;31mKeyboardInterrupt\u001b[0m                         Traceback (most recent call last)",
            "\u001b[0;32m/tmp/ipython-input-561608032.py\u001b[0m in \u001b[0;36m<cell line: 0>\u001b[0;34m()\u001b[0m\n\u001b[1;32m     61\u001b[0m \u001b[0mprint\u001b[0m\u001b[0;34m(\u001b[0m\u001b[0;34m\"\\n----------- Enter water quality values to check pollution status -------------\\n\"\u001b[0m\u001b[0;34m)\u001b[0m\u001b[0;34m\u001b[0m\u001b[0;34m\u001b[0m\u001b[0m\n\u001b[1;32m     62\u001b[0m \u001b[0;32mtry\u001b[0m\u001b[0;34m:\u001b[0m\u001b[0;34m\u001b[0m\u001b[0;34m\u001b[0m\u001b[0m\n\u001b[0;32m---> 63\u001b[0;31m     \u001b[0mtemp\u001b[0m \u001b[0;34m=\u001b[0m \u001b[0mfloat\u001b[0m\u001b[0;34m(\u001b[0m\u001b[0minput\u001b[0m\u001b[0;34m(\u001b[0m\u001b[0;34m\"Temperature (°C): \"\u001b[0m\u001b[0;34m)\u001b[0m\u001b[0;34m)\u001b[0m\u001b[0;34m\u001b[0m\u001b[0;34m\u001b[0m\u001b[0m\n\u001b[0m\u001b[1;32m     64\u001b[0m     \u001b[0mdo\u001b[0m \u001b[0;34m=\u001b[0m \u001b[0mfloat\u001b[0m\u001b[0;34m(\u001b[0m\u001b[0minput\u001b[0m\u001b[0;34m(\u001b[0m\u001b[0;34m\"Dissolved Oxygen (mg/L): \"\u001b[0m\u001b[0;34m)\u001b[0m\u001b[0;34m)\u001b[0m\u001b[0;34m\u001b[0m\u001b[0;34m\u001b[0m\u001b[0m\n\u001b[1;32m     65\u001b[0m     \u001b[0mph\u001b[0m \u001b[0;34m=\u001b[0m \u001b[0mfloat\u001b[0m\u001b[0;34m(\u001b[0m\u001b[0minput\u001b[0m\u001b[0;34m(\u001b[0m\u001b[0;34m\"pH: \"\u001b[0m\u001b[0;34m)\u001b[0m\u001b[0;34m)\u001b[0m\u001b[0;34m\u001b[0m\u001b[0;34m\u001b[0m\u001b[0m\n",
            "\u001b[0;32m/usr/local/lib/python3.11/dist-packages/ipykernel/kernelbase.py\u001b[0m in \u001b[0;36mraw_input\u001b[0;34m(self, prompt)\u001b[0m\n\u001b[1;32m   1175\u001b[0m                 \u001b[0;34m\"raw_input was called, but this frontend does not support input requests.\"\u001b[0m\u001b[0;34m\u001b[0m\u001b[0;34m\u001b[0m\u001b[0m\n\u001b[1;32m   1176\u001b[0m             )\n\u001b[0;32m-> 1177\u001b[0;31m         return self._input_request(\n\u001b[0m\u001b[1;32m   1178\u001b[0m             \u001b[0mstr\u001b[0m\u001b[0;34m(\u001b[0m\u001b[0mprompt\u001b[0m\u001b[0;34m)\u001b[0m\u001b[0;34m,\u001b[0m\u001b[0;34m\u001b[0m\u001b[0;34m\u001b[0m\u001b[0m\n\u001b[1;32m   1179\u001b[0m             \u001b[0mself\u001b[0m\u001b[0;34m.\u001b[0m\u001b[0m_parent_ident\u001b[0m\u001b[0;34m[\u001b[0m\u001b[0;34m\"shell\"\u001b[0m\u001b[0;34m]\u001b[0m\u001b[0;34m,\u001b[0m\u001b[0;34m\u001b[0m\u001b[0;34m\u001b[0m\u001b[0m\n",
            "\u001b[0;32m/usr/local/lib/python3.11/dist-packages/ipykernel/kernelbase.py\u001b[0m in \u001b[0;36m_input_request\u001b[0;34m(self, prompt, ident, parent, password)\u001b[0m\n\u001b[1;32m   1217\u001b[0m             \u001b[0;32mexcept\u001b[0m \u001b[0mKeyboardInterrupt\u001b[0m\u001b[0;34m:\u001b[0m\u001b[0;34m\u001b[0m\u001b[0;34m\u001b[0m\u001b[0m\n\u001b[1;32m   1218\u001b[0m                 \u001b[0;31m# re-raise KeyboardInterrupt, to truncate traceback\u001b[0m\u001b[0;34m\u001b[0m\u001b[0;34m\u001b[0m\u001b[0m\n\u001b[0;32m-> 1219\u001b[0;31m                 \u001b[0;32mraise\u001b[0m \u001b[0mKeyboardInterrupt\u001b[0m\u001b[0;34m(\u001b[0m\u001b[0;34m\"Interrupted by user\"\u001b[0m\u001b[0;34m)\u001b[0m \u001b[0;32mfrom\u001b[0m \u001b[0;32mNone\u001b[0m\u001b[0;34m\u001b[0m\u001b[0;34m\u001b[0m\u001b[0m\n\u001b[0m\u001b[1;32m   1220\u001b[0m             \u001b[0;32mexcept\u001b[0m \u001b[0mException\u001b[0m\u001b[0;34m:\u001b[0m\u001b[0;34m\u001b[0m\u001b[0;34m\u001b[0m\u001b[0m\n\u001b[1;32m   1221\u001b[0m                 \u001b[0mself\u001b[0m\u001b[0;34m.\u001b[0m\u001b[0mlog\u001b[0m\u001b[0;34m.\u001b[0m\u001b[0mwarning\u001b[0m\u001b[0;34m(\u001b[0m\u001b[0;34m\"Invalid Message:\"\u001b[0m\u001b[0;34m,\u001b[0m \u001b[0mexc_info\u001b[0m\u001b[0;34m=\u001b[0m\u001b[0;32mTrue\u001b[0m\u001b[0;34m)\u001b[0m\u001b[0;34m\u001b[0m\u001b[0;34m\u001b[0m\u001b[0m\n",
            "\u001b[0;31mKeyboardInterrupt\u001b[0m: Interrupted by user"
          ]
        }
      ],
      "source": [
        "import pandas as pd\n",
        "\n",
        "# Step 1: Read and skip the first 2 metadata rows\n",
        "df = pd.read_csv(\"water.csv\", skiprows=2)\n",
        "\n",
        "# Step 2: Rename columns for clarity\n",
        "df.columns = [\n",
        "    \"Station Code\",\n",
        "    \"Monitoring Location\",\n",
        "    \"State\",\n",
        "    \"Temperature (°C) Min\", \"Temperature (°C) Max\",\n",
        "    \"Dissolved Oxygen (mg/L) Min\", \"Dissolved Oxygen (mg/L) Max\",\n",
        "    \"pH Min\", \"pH Max\",\n",
        "    \"Conductivity (µmho/cm) Min\", \"Conductivity (µmho/cm) Max\",\n",
        "    \"BOD (mg/L) Min\", \"BOD (mg/L) Max\",\n",
        "    \"Nitrate N (mg/L) Min\", \"Nitrate N (mg/L) Max\",\n",
        "    \"Fecal Coliform (MPN/100ml) Min\", \"Fecal Coliform (MPN/100ml) Max\",\n",
        "    \"Total Coliform (MPN/100ml) Min\", \"Total Coliform (MPN/100ml) Max\",\n",
        "    \"Fecal Streptococci (MPN/100ml) Min\", \"Fecal Streptococci (MPN/100ml) Max\"\n",
        "]\n",
        "\n",
        "# Step 3: Convert all max value columns to numeric\n",
        "max_columns = [col for col in df.columns if \"Max\" in col]\n",
        "for col in max_columns:\n",
        "    df[col] = pd.to_numeric(df[col], errors='coerce')\n",
        "\n",
        "# Step 4: Drop rows with NaN in important columns\n",
        "important_cols = [\n",
        "    \"Temperature (°C) Max\", \"Dissolved Oxygen (mg/L) Max\", \"pH Max\",\n",
        "    \"Conductivity (µmho/cm) Max\", \"BOD (mg/L) Max\", \"Nitrate N (mg/L) Max\",\n",
        "    \"Fecal Coliform (MPN/100ml) Max\", \"Total Coliform (MPN/100ml) Max\"\n",
        "]\n",
        "df.dropna(subset=important_cols, inplace=True)\n",
        "\n",
        "# Step 5: Pollution Status Logic\n",
        "def pollution_status(row):\n",
        "    if (\n",
        "        6.5 <= row['pH Max'] <= 8.5 and\n",
        "        row['Dissolved Oxygen (mg/L) Max'] > 5 and\n",
        "        row['BOD (mg/L) Max'] < 3 and\n",
        "        row['Fecal Coliform (MPN/100ml) Max'] < 2500 and\n",
        "        row['Total Coliform (MPN/100ml) Max'] < 500 and\n",
        "        row['Temperature (°C) Max'] <= 40 and\n",
        "        row['Conductivity (µmho/cm) Max'] <= 3000 and\n",
        "        row['Nitrate N (mg/L) Max'] < 45\n",
        "    ):\n",
        "        return 'Clean'\n",
        "    elif row['BOD (mg/L) Max'] < 5 and row['Dissolved Oxygen (mg/L) Max'] > 3:\n",
        "        return 'Moderate'\n",
        "    else:\n",
        "        return 'Polluted'\n",
        "\n",
        "# Step 6: Apply to dataset\n",
        "df['pollution_status'] = df.apply(pollution_status, axis=1)\n",
        "\n",
        "# Step 7: Preview results\n",
        "print(\"\\n📊 Pollution Status of Sample Locations:\\n\")\n",
        "print(df[['State', 'Monitoring Location', 'pollution_status']].tail())\n",
        "\n",
        "# Step 8: User Input\n",
        "print(\"\\n----------- Enter water quality values to check pollution status -------------\\n\")\n",
        "try:\n",
        "    temp = float(input(\"Temperature (°C): \"))\n",
        "    do = float(input(\"Dissolved Oxygen (mg/L): \"))\n",
        "    ph = float(input(\"pH: \"))\n",
        "    cond = float(input(\"Conductivity (µmho/cm): \"))\n",
        "    bod = float(input(\"BOD (mg/L): \"))\n",
        "    nitrate = float(input(\"Nitrate N (mg/L): \"))\n",
        "    fecal = float(input(\"Fecal Coliform (MPN/100ml): \"))\n",
        "    total = float(input(\"Total Coliform (MPN/100ml): \"))\n",
        "\n",
        "    # Create single-row DataFrame\n",
        "    user_data = pd.DataFrame([{\n",
        "        'Temperature (°C) Max': temp,\n",
        "        'Dissolved Oxygen (mg/L) Max': do,\n",
        "        'pH Max': ph,\n",
        "        'Conductivity (µmho/cm) Max': cond,\n",
        "        'BOD (mg/L) Max': bod,\n",
        "        'Nitrate N (mg/L) Max': nitrate,\n",
        "        'Fecal Coliform (MPN/100ml) Max': fecal,\n",
        "        'Total Coliform (MPN/100ml) Max': total\n",
        "    }])\n",
        "\n",
        "    # Apply pollution logic to user input\n",
        "    user_result = pollution_status(user_data.iloc[0])\n",
        "    print(f\"\\n💧 Water Pollution Status: {user_result}\")\n",
        "\n",
        "except ValueError:\n",
        "    print(\"⚠️ Invalid input. Please enter only numeric values.\")\n"
      ]
    },
    {
      "cell_type": "code",
      "source": [],
      "metadata": {
        "id": "xDHo6-5rdaeC"
      },
      "execution_count": 1,
      "outputs": []
    }
  ]
}